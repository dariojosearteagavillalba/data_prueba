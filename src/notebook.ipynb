{
 "cells": [
  {
   "cell_type": "code",
   "execution_count": null,
   "metadata": {
    "vscode": {
     "languageId": "sql"
    }
   },
   "outputs": [],
   "source": [
    "--SOLUCION 1 \n",
    "with protocols_organized (protocol,client)\n",
    "\tas (\n",
    "\tSELECT\n",
    "\t\tprotocol, client\n",
    "\t\tFROM traffic\n",
    "\t\tgroup by client, protocol\n",
    "\t)\n",
    "\n",
    "\n",
    "SELECT\n",
    "  distinct t.client,\n",
    "  t.protocol\n",
    "FROM traffic\n",
    "INNER JOIN (\n",
    "    SELECT\n",
    "    STRING_AGG(protocol, ',') AS protocol, client\n",
    "    FROM protocols_organized\n",
    "    group by client\n",
    "  ) AS t\n",
    "ON traffic.client = t.client\n",
    "ORDER BY client"
   ]
  },
  {
   "attachments": {
    "image-2.png": {
     "image/png": "[encoded data removed]"
    }
   },
   "cell_type": "markdown",
   "metadata": {},
   "source": [
    "![image-2.png](attachment:image-2.png)\n"
   ]
  },
  {
   "cell_type": "code",
   "execution_count": null,
   "metadata": {
    "vscode": {
     "languageId": "sql"
    }
   },
   "outputs": [],
   "source": [
    "--SOLUCION 2\n",
    "SELECT\n",
    "  client,\n",
    "  STUFF(\n",
    "    (SELECT  distinct protocol +', '\n",
    "     FROM traffic\n",
    "     WHERE client = a.client\n",
    "     FOR XML PATH ('')),\n",
    "    1,\n",
    "    0,\n",
    "    '') AS [protocol]\n",
    "FROM traffic AS a\n",
    "GROUP BY client\n",
    "ORDER BY client"
   ]
  },
  {
   "attachments": {
    "image-2.png": {
     "image/png": "[encoded data removed]"
    }
   },
   "cell_type": "markdown",
   "metadata": {},
   "source": [
    "![image-2.png](attachment:image-2.png)"
   ]
  },
  {
   "cell_type": "code",
   "execution_count": null,
   "metadata": {},
   "outputs": [],
   "source": [
    "\n",
    "%%cmd \n",
    "python test_counts.py"
   ]
  },
  {
   "cell_type": "code",
   "execution_count": 29,
   "metadata": {},
   "outputs": [
    {
     "name": "stdout",
     "output_type": "stream",
     "text": [
      "[1, 0, 3, 4]\n"
     ]
    }
   ],
   "source": [
    "# # Para cada partido del equipo B, calcula el número total de partidos del\n",
    "# # equipo A en los que el equipo A ha marcado menos o igual que el número de goles marcados\n",
    "# # por el equipo B en ese partido.\n",
    "\n",
    "\n",
    "\n",
    "equipoB = [3, 1, 7, 8]\n",
    "equipoA = [2, 10, 5, 4, 8]\n",
    "\n",
    "\n",
    "def counts(equipoA, equipoB):\n",
    "\n",
    "    resultado=[]\n",
    "    \n",
    "    for valor_partidoB in  equipoB:\n",
    "\n",
    "        gol_menor_partido=0\n",
    "\n",
    "        for valor_partidoA in equipoA:\n",
    "\n",
    "            if  valor_partidoA <= valor_partidoB:\n",
    "                \n",
    "                gol_menor_partido = gol_menor_partido+1\n",
    "\n",
    "        resultado.append(gol_menor_partido)\n",
    "        \n",
    "    return resultado\n",
    "\n",
    "print(counts(equipoA,equipoB))"
   ]
  }
 ],
 "metadata": {
  "kernelspec": {
   "display_name": "Python 3 (ipykernel)",
   "language": "python",
   "name": "python3"
  },
  "language_info": {
   "codemirror_mode": {
    "name": "ipython",
    "version": 3
   },
   "file_extension": ".py",
   "mimetype": "text/x-python",
   "name": "python",
   "nbconvert_exporter": "python",
   "pygments_lexer": "ipython3",
   "version": "3.10.5"
  },
  "orig_nbformat": 4
 },
 "nbformat": 4,
 "nbformat_minor": 2
}
